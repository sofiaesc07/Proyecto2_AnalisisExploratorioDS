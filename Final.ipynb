{
 "cells": [
  {
   "cell_type": "code",
   "execution_count": 1,
   "metadata": {},
   "outputs": [],
   "source": [
    "import tkinter as tk\n",
    "from sklearn.model_selection import train_test_split\n",
    "from sklearn.ensemble import RandomForestClassifier\n",
    "from sklearn.naive_bayes import MultinomialNB\n",
    "from sklearn.metrics import accuracy_score, classification_report\n",
    "from tensorflow.keras.models import Sequential\n",
    "from tensorflow.keras.layers import Dense\n",
    "from tensorflow.keras.preprocessing.text import Tokenizer\n",
    "from tensorflow.keras.preprocessing.sequence import pad_sequences\n",
    "import pandas as pd"
   ]
  },
  {
   "cell_type": "code",
   "execution_count": 2,
   "metadata": {},
   "outputs": [],
   "source": [
    "# Función para cargar y procesar los datos\n",
    "def cargar_datos():\n",
    "    abstracts_train = pd.read_csv('abstracts_train.csv', delimiter='\\t')\n",
    "    entities_train = pd.read_csv('entities_train.csv', delimiter='\\t')\n",
    "    relations_train = pd.read_csv('relations_train.csv', delimiter='\\t')\n",
    "\n",
    "    train_data = pd.merge(relations_train, entities_train, left_on='entity_1_id', right_on='id', suffixes=('_relation', '_entity_1'))\n",
    "    train_data = pd.merge(train_data, entities_train, left_on='entity_2_id', right_on='id', suffixes=('_entity_1', '_entity_2'))\n",
    "    train_data = pd.merge(train_data, abstracts_train, on='abstract_id')\n",
    "    return train_data"
   ]
  },
  {
   "cell_type": "code",
   "execution_count": 3,
   "metadata": {},
   "outputs": [],
   "source": [
    "# Función para entrenar y clasificar con un modelo basado en texto\n",
    "def clasificar_texto(train_data):\n",
    "    tokenizer = Tokenizer(num_words=5000, oov_token=\"<OOV>\")\n",
    "    tokenizer.fit_on_texts(train_data['abstract'])\n",
    "\n",
    "    X = tokenizer.texts_to_sequences(train_data['abstract'])\n",
    "    X = pad_sequences(X)\n",
    "\n",
    "    y = train_data['type']\n",
    "\n",
    "    X_train, X_test, y_train, y_test = train_test_split(X, y, test_size=0.2, random_state=42)\n",
    "\n",
    "    model = Sequential()\n",
    "    model.add(Dense(64, input_dim=X_train.shape[1], activation='relu'))\n",
    "    model.add(Dense(8, activation='relu'))\n",
    "    model.add(Dense(1, activation='sigmoid'))\n",
    "\n",
    "    model.compile(loss='binary_crossentropy', optimizer='adam', metrics=['accuracy'])\n",
    "\n",
    "    model.fit(X_train, y_train, epochs=5, batch_size=32, validation_data=(X_test, y_test))\n",
    "\n",
    "    y_pred = model.predict(X_test)\n",
    "    y_pred = (y_pred > 0.5).astype(int)\n",
    "\n",
    "    accuracy = accuracy_score(y_test, y_pred)\n",
    "    classification_rep = classification_report(y_test, y_pred)\n",
    "\n",
    "    return accuracy, classification_rep"
   ]
  },
  {
   "cell_type": "code",
   "execution_count": 4,
   "metadata": {},
   "outputs": [],
   "source": [
    "# Función para entrenar y clasificar con un modelo de Naive Bayes (Multinomial)\n",
    "def clasificar_multinomial(train_data):\n",
    "    X = train_data[['feature1', 'feature2', ...]]\n",
    "    y = train_data['type']\n",
    "\n",
    "    X_train, X_test, y_train, y_test = train_test_split(X, y, test_size=0.2, random_state=42)\n",
    "\n",
    "    model = MultinomialNB()\n",
    "    model.fit(X_train, y_train)\n",
    "\n",
    "    y_pred = model.predict(X_test)\n",
    "\n",
    "    accuracy = accuracy_score(y_test, y_pred)\n",
    "    classification_rep = classification_report(y_test, y_pred)\n",
    "\n",
    "    return accuracy, classification_rep"
   ]
  },
  {
   "cell_type": "code",
   "execution_count": 5,
   "metadata": {},
   "outputs": [],
   "source": [
    "# Función para mostrar los resultados en la interfaz\n",
    "def mostrar_resultados():\n",
    "    train_data = cargar_datos()\n",
    "\n",
    "    # Modelo basado en texto\n",
    "    accuracy_texto, classification_rep_texto = clasificar_texto(train_data)\n",
    "\n",
    "    # Modelo de Naive Bayes (Multinomial)\n",
    "    accuracy_multinomial, classification_rep_multinomial = clasificar_multinomial(train_data)\n",
    "\n",
    "    resultado_texto.set(f'Modelo basado en texto:\\nAccuracy: {accuracy_texto:.2f}\\n\\nClassification Report:\\n{classification_rep_texto}\\n\\n'\n",
    "                        f'Modelo de Naive Bayes (Multinomial):\\nAccuracy: {accuracy_multinomial:.2f}\\n\\nClassification Report:\\n{classification_rep_multinomial}')\n"
   ]
  },
  {
   "cell_type": "code",
   "execution_count": 6,
   "metadata": {},
   "outputs": [
    {
     "data": {
      "text/plain": [
       "''"
      ]
     },
     "execution_count": 6,
     "metadata": {},
     "output_type": "execute_result"
    }
   ],
   "source": [
    "# Configuración de la interfaz gráfica\n",
    "window = tk.Tk()\n",
    "window.title(\"Sistema de Clasificación\")\n"
   ]
  },
  {
   "cell_type": "code",
   "execution_count": 7,
   "metadata": {},
   "outputs": [],
   "source": [
    "\n",
    "# Botón para cargar datos y realizar clasificación\n",
    "tk.Button(window, text=\"Cargar Datos y Clasificar\", command=mostrar_resultados).grid(row=0, column=0, columnspan=2)\n"
   ]
  },
  {
   "cell_type": "code",
   "execution_count": 8,
   "metadata": {},
   "outputs": [],
   "source": [
    "\n",
    "# Etiqueta para mostrar el resultado de la clasificación\n",
    "resultado_texto = tk.StringVar()\n",
    "tk.Label(window, textvariable=resultado_texto).grid(row=1, column=0, columnspan=2)\n"
   ]
  },
  {
   "cell_type": "code",
   "execution_count": 10,
   "metadata": {},
   "outputs": [
    {
     "ename": "NameError",
     "evalue": "name 'clasificar_nuevos_datos' is not defined",
     "output_type": "error",
     "traceback": [
      "\u001b[1;31m---------------------------------------------------------------------------\u001b[0m",
      "\u001b[1;31mNameError\u001b[0m                                 Traceback (most recent call last)",
      "\u001b[1;32mc:\\Users\\anaso\\OneDrive\\Documentos\\8 semestre\\Data Science\\Proyecto 2\\Proyecto2_AnalisisExploratorioDS\\Final.ipynb Celda 9\u001b[0m line \u001b[0;36m1\n\u001b[0;32m      <a href='vscode-notebook-cell:/c%3A/Users/anaso/OneDrive/Documentos/8%20semestre/Data%20Science/Proyecto%202/Proyecto2_AnalisisExploratorioDS/Final.ipynb#X11sZmlsZQ%3D%3D?line=7'>8</a>\u001b[0m entrada_datos\u001b[39m.\u001b[39mgrid(row\u001b[39m=\u001b[39m\u001b[39m1\u001b[39m, column\u001b[39m=\u001b[39m\u001b[39m0\u001b[39m, columnspan\u001b[39m=\u001b[39m\u001b[39m2\u001b[39m)\n\u001b[0;32m     <a href='vscode-notebook-cell:/c%3A/Users/anaso/OneDrive/Documentos/8%20semestre/Data%20Science/Proyecto%202/Proyecto2_AnalisisExploratorioDS/Final.ipynb#X11sZmlsZQ%3D%3D?line=9'>10</a>\u001b[0m \u001b[39m# Botón para clasificar nuevos datos\u001b[39;00m\n\u001b[1;32m---> <a href='vscode-notebook-cell:/c%3A/Users/anaso/OneDrive/Documentos/8%20semestre/Data%20Science/Proyecto%202/Proyecto2_AnalisisExploratorioDS/Final.ipynb#X11sZmlsZQ%3D%3D?line=10'>11</a>\u001b[0m tk\u001b[39m.\u001b[39mButton(window, text\u001b[39m=\u001b[39m\u001b[39m\"\u001b[39m\u001b[39mClasificar\u001b[39m\u001b[39m\"\u001b[39m, command\u001b[39m=\u001b[39mclasificar_nuevos_datos)\u001b[39m.\u001b[39mgrid(row\u001b[39m=\u001b[39m\u001b[39m2\u001b[39m, column\u001b[39m=\u001b[39m\u001b[39m0\u001b[39m, columnspan\u001b[39m=\u001b[39m\u001b[39m2\u001b[39m)\n\u001b[0;32m     <a href='vscode-notebook-cell:/c%3A/Users/anaso/OneDrive/Documentos/8%20semestre/Data%20Science/Proyecto%202/Proyecto2_AnalisisExploratorioDS/Final.ipynb#X11sZmlsZQ%3D%3D?line=12'>13</a>\u001b[0m \u001b[39m# Checkbox para seleccionar algoritmos a mostrar\u001b[39;00m\n\u001b[0;32m     <a href='vscode-notebook-cell:/c%3A/Users/anaso/OneDrive/Documentos/8%20semestre/Data%20Science/Proyecto%202/Proyecto2_AnalisisExploratorioDS/Final.ipynb#X11sZmlsZQ%3D%3D?line=13'>14</a>\u001b[0m algoritmo1_var \u001b[39m=\u001b[39m tk\u001b[39m.\u001b[39mIntVar()\n",
      "\u001b[1;31mNameError\u001b[0m: name 'clasificar_nuevos_datos' is not defined"
     ]
    }
   ],
   "source": [
    "# Configuración de la interfaz gráfica\n",
    "window = tk.Tk()\n",
    "window.title(\"Sistema de Clasificación\")\n",
    "\n",
    "# Etiqueta y entrada para ingresar nuevos datos\n",
    "tk.Label(window, text=\"Ingresar nuevos datos:\").grid(row=0, column=0, columnspan=2)\n",
    "entrada_datos = tk.Entry(window)\n",
    "entrada_datos.grid(row=1, column=0, columnspan=2)\n",
    "\n",
    "# Botón para clasificar nuevos datos\n",
    "tk.Button(window, text=\"Clasificar\", command=clasificar_nuevos_datos).grid(row=2, column=0, columnspan=2)\n",
    "\n",
    "# Checkbox para seleccionar algoritmos a mostrar\n",
    "algoritmo1_var = tk.IntVar()\n",
    "algoritmo2_var = tk.IntVar()\n",
    "\n",
    "tk.Checkbutton(window, text=\"Algoritmo 1\", variable=algoritmo1_var, command=actualizar_resultados).grid(row=3, column=0)\n",
    "tk.Checkbutton(window, text=\"Algoritmo 2\", variable=algoritmo2_var, command=actualizar_resultados).grid(row=3, column=1)\n",
    "\n",
    "# Ejecutar la aplicación\n",
    "window.mainloop()"
   ]
  }
 ],
 "metadata": {
  "kernelspec": {
   "display_name": "Python 3",
   "language": "python",
   "name": "python3"
  },
  "language_info": {
   "codemirror_mode": {
    "name": "ipython",
    "version": 3
   },
   "file_extension": ".py",
   "mimetype": "text/x-python",
   "name": "python",
   "nbconvert_exporter": "python",
   "pygments_lexer": "ipython3",
   "version": "3.11.1"
  }
 },
 "nbformat": 4,
 "nbformat_minor": 2
}
