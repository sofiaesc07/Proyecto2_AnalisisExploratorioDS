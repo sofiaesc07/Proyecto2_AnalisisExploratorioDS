{
 "cells": [
  {
   "cell_type": "code",
   "execution_count": 1,
   "metadata": {},
   "outputs": [
    {
     "name": "stderr",
     "output_type": "stream",
     "text": [
      "c:\\Users\\josem\\AppData\\Local\\Programs\\Python\\Python310\\lib\\site-packages\\tqdm\\auto.py:22: TqdmWarning: IProgress not found. Please update jupyter and ipywidgets. See https://ipywidgets.readthedocs.io/en/stable/user_install.html\n",
      "  from .autonotebook import tqdm as notebook_tqdm\n",
      "C:\\Users\\josem\\AppData\\Local\\Temp\\ipykernel_2644\\736512372.py:9: DeprecationWarning: `import pandas_profiling` is going to be deprecated by April 1st. Please use `import ydata_profiling` instead.\n",
      "  from pandas_profiling import ProfileReport\n"
     ]
    }
   ],
   "source": [
    "import pandas as pd\n",
    "from pandas_profiling import ProfileReport\n",
    "\n",
    "abstracts_train = pd.read_csv('abstracts_train.csv', sep='\\t')\n",
    "entities_train = pd.read_csv('entities_train.csv', sep='\\t')\n",
    "relations_train = pd.read_csv('relations_train.csv', sep='\\t')"
   ]
  },
  {
   "cell_type": "code",
   "execution_count": 2,
   "metadata": {},
   "outputs": [
    {
     "name": "stderr",
     "output_type": "stream",
     "text": [
      "Summarize dataset: 100%|██████████| 13/13 [00:01<00:00,  6.75it/s, Completed]                      \n",
      "Generate report structure: 100%|██████████| 1/1 [00:00<00:00,  1.42it/s]\n",
      "Render HTML: 100%|██████████| 1/1 [00:00<00:00,  1.59it/s]\n",
      "Export report to file: 100%|██████████| 1/1 [00:00<00:00, 334.37it/s]\n"
     ]
    }
   ],
   "source": [
    "profile = ProfileReport(abstracts_train)\n",
    "profile.to_file(\"abstracts.html\")"
   ]
  },
  {
   "cell_type": "code",
   "execution_count": 3,
   "metadata": {},
   "outputs": [
    {
     "name": "stderr",
     "output_type": "stream",
     "text": [
      "Summarize dataset: 100%|██████████| 32/32 [00:02<00:00, 10.88it/s, Completed]                           \n",
      "Generate report structure: 100%|██████████| 1/1 [00:02<00:00,  2.00s/it]\n",
      "Render HTML: 100%|██████████| 1/1 [00:00<00:00,  1.23it/s]\n",
      "Export report to file: 100%|██████████| 1/1 [00:00<00:00, 200.49it/s]\n"
     ]
    }
   ],
   "source": [
    "\n",
    "profile = ProfileReport(entities_train)\n",
    "profile.to_file(\"entities.html\")"
   ]
  },
  {
   "cell_type": "code",
   "execution_count": 4,
   "metadata": {},
   "outputs": [
    {
     "name": "stderr",
     "output_type": "stream",
     "text": [
      "Summarize dataset: 100%|██████████| 19/19 [00:01<00:00, 17.00it/s, Completed]                       \n",
      "Generate report structure: 100%|██████████| 1/1 [00:01<00:00,  1.47s/it]\n",
      "Render HTML: 100%|██████████| 1/1 [00:00<00:00,  2.75it/s]\n",
      "Export report to file: 100%|██████████| 1/1 [00:00<00:00, 501.59it/s]\n"
     ]
    }
   ],
   "source": [
    "\n",
    "profile = ProfileReport(relations_train)\n",
    "profile.to_file(\"relations.html\")"
   ]
  }
 ],
 "metadata": {
  "kernelspec": {
   "display_name": "Python 3 (ipykernel)",
   "language": "python",
   "name": "python3"
  },
  "language_info": {
   "codemirror_mode": {
    "name": "ipython",
    "version": 3
   },
   "file_extension": ".py",
   "mimetype": "text/x-python",
   "name": "python",
   "nbconvert_exporter": "python",
   "pygments_lexer": "ipython3",
   "version": "3.11.1"
  }
 },
 "nbformat": 4,
 "nbformat_minor": 2
}
